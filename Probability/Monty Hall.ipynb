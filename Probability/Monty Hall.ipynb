{
 "metadata": {
  "language_info": {
   "codemirror_mode": {
    "name": "ipython",
    "version": 3
   },
   "file_extension": ".py",
   "mimetype": "text/x-python",
   "name": "python",
   "nbconvert_exporter": "python",
   "pygments_lexer": "ipython3",
   "version": "3.8.5-final"
  },
  "orig_nbformat": 2,
  "kernelspec": {
   "name": "python38564bit73fda7affcee4f5e80f0758d9e53907a",
   "display_name": "Python 3.8.5 64-bit"
  }
 },
 "nbformat": 4,
 "nbformat_minor": 2,
 "cells": [
  {
   "cell_type": "code",
   "execution_count": 2,
   "metadata": {},
   "outputs": [],
   "source": [
    "import random\n",
    "import matplotlib.pyplot as plt \n",
    "\n",
    "\n",
    "def run_trial(switch_doors, ndoors=4):\n",
    "\n",
    "    # Pick a random door out of the ndoors available\n",
    "    chosen_door = random.randint(1, ndoors)\n",
    "    if switch_doors:\n",
    "        # Reveal a goat\n",
    "        revealed_door = 3 if chosen_door==2 else 2\n",
    "        # Make the switch by choosing any other door than the initially-\n",
    "        # selected one and the one just opened to reveal a goat. \n",
    "        available_doors = [dnum for dnum in range(1,ndoors+1)\n",
    "                                if dnum not in (chosen_door, revealed_door)]\n",
    "        chosen_door = random.choice(available_doors)\n",
    "\n",
    "    # You win if you picked door number 1\n",
    "    return chosen_door == 1\n",
    "\n",
    "def run_trials(ntrials, switch_doors, ndoors=3):\n",
    "    \n",
    "\n",
    "    nwins = 0\n",
    "    for i in range(ntrials):\n",
    "        if run_trial(switch_doors, ndoors):\n",
    "            nwins += 1\n",
    "    return nwins\n",
    "\n",
    "\n"
   ]
  },
  {
   "cell_type": "code",
   "execution_count": 3,
   "metadata": {},
   "outputs": [
    {
     "output_type": "stream",
     "name": "stdout",
     "text": [
      "Monty Hall Problem with 4 doors\nProportion of wins without switching: 0.2507\nProportion of wins with switching: 0.3781\n"
     ]
    }
   ],
   "source": [
    "ndoors, ntrials = 4, 10000\n",
    "nwins_without_switch = run_trials(ntrials, False, ndoors)\n",
    "nwins_with_switch = run_trials(ntrials, True, ndoors)\n",
    "\n",
    "print('Monty Hall Problem with {} doors'.format(ndoors))\n",
    "print('Proportion of wins without switching: {:.4f}'\n",
    "            .format(nwins_without_switch/ntrials))\n",
    "print('Proportion of wins with switching: {:.4f}'\n",
    "            .format(nwins_with_switch/ntrials))\n",
    "\n"
   ]
  }
 ]
}